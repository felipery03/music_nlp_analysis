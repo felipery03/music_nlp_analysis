{
 "cells": [
  {
   "cell_type": "code",
   "execution_count": 1,
   "metadata": {},
   "outputs": [],
   "source": [
    "import pandas as pd\n",
    "import numpy as np\n",
    "import os\n",
    "import re\n",
    "import nltk\n",
    "from nltk.stem import RSLPStemmer"
   ]
  },
  {
   "cell_type": "code",
   "execution_count": 2,
   "metadata": {},
   "outputs": [],
   "source": [
    "def orengo(song):\n",
    "    st = RSLPStemmer()\n",
    "    words = filter(lambda x: len(x)>0, song)\n",
    "    word_list = list(map(lambda x: st.stem(x), words))\n",
    "    return word_list"
   ]
  },
  {
   "cell_type": "code",
   "execution_count": 3,
   "metadata": {},
   "outputs": [],
   "source": [
    "def remove_stopwords(doc):\n",
    "    stopwords = nltk.corpus.stopwords.words('portuguese')\n",
    "    new_doc = list(filter(lambda x: x not in stopwords, doc))\n",
    "    return new_doc"
   ]
  },
  {
   "cell_type": "code",
   "execution_count": 4,
   "metadata": {},
   "outputs": [],
   "source": [
    "df = pd.read_csv('.\\data\\data.csv')"
   ]
  },
  {
   "cell_type": "code",
   "execution_count": 5,
   "metadata": {},
   "outputs": [
    {
     "data": {
      "text/html": [
       "<div>\n",
       "<style scoped>\n",
       "    .dataframe tbody tr th:only-of-type {\n",
       "        vertical-align: middle;\n",
       "    }\n",
       "\n",
       "    .dataframe tbody tr th {\n",
       "        vertical-align: top;\n",
       "    }\n",
       "\n",
       "    .dataframe thead th {\n",
       "        text-align: right;\n",
       "    }\n",
       "</style>\n",
       "<table border=\"1\" class=\"dataframe\">\n",
       "  <thead>\n",
       "    <tr style=\"text-align: right;\">\n",
       "      <th></th>\n",
       "      <th>artist</th>\n",
       "      <th>music_name</th>\n",
       "      <th>lyrics</th>\n",
       "      <th>translated</th>\n",
       "      <th>foreign</th>\n",
       "    </tr>\n",
       "  </thead>\n",
       "  <tbody>\n",
       "    <tr>\n",
       "      <th>0</th>\n",
       "      <td>/marilia-mendonca/</td>\n",
       "      <td>/marilia-mendonca/ausencia.html</td>\n",
       "      <td>sei bem o que te faz bem eu sei mas no fundo e...</td>\n",
       "      <td>sei bem o que te faz bem eu sei mas no fundo e...</td>\n",
       "      <td>2</td>\n",
       "    </tr>\n",
       "    <tr>\n",
       "      <th>1</th>\n",
       "      <td>/marilia-mendonca/</td>\n",
       "      <td>/marilia-mendonca/todo-mundo-vai-sofrer.html</td>\n",
       "      <td>a garrafa precisa do copo o copo precisa da me...</td>\n",
       "      <td>a garrafa precisa do copo o copo precisa da me...</td>\n",
       "      <td>5</td>\n",
       "    </tr>\n",
       "    <tr>\n",
       "      <th>2</th>\n",
       "      <td>/marilia-mendonca/</td>\n",
       "      <td>/marilia-mendonca/bebi-liguei.html</td>\n",
       "      <td>acordei mais uma vez embriagado e o seu cheiro...</td>\n",
       "      <td>acordei mais uma vez embriagado e o seu cheiro...</td>\n",
       "      <td>22</td>\n",
       "    </tr>\n",
       "    <tr>\n",
       "      <th>3</th>\n",
       "      <td>/marilia-mendonca/</td>\n",
       "      <td>/marilia-mendonca/ciumeira.html</td>\n",
       "      <td>no começo eu entendia mas era só cama não tinh...</td>\n",
       "      <td>no começo eu entendia era só cama não tinha am...</td>\n",
       "      <td>11</td>\n",
       "    </tr>\n",
       "    <tr>\n",
       "      <th>4</th>\n",
       "      <td>/marilia-mendonca/</td>\n",
       "      <td>/marilia-mendonca/bem-pior-que-eu.html</td>\n",
       "      <td>mente que vai dar uma volta e vem me ver entre...</td>\n",
       "      <td>mente que vai dar uma volta e vem me ver entre...</td>\n",
       "      <td>3</td>\n",
       "    </tr>\n",
       "  </tbody>\n",
       "</table>\n",
       "</div>"
      ],
      "text/plain": [
       "               artist                                    music_name  \\\n",
       "0  /marilia-mendonca/               /marilia-mendonca/ausencia.html   \n",
       "1  /marilia-mendonca/  /marilia-mendonca/todo-mundo-vai-sofrer.html   \n",
       "2  /marilia-mendonca/            /marilia-mendonca/bebi-liguei.html   \n",
       "3  /marilia-mendonca/               /marilia-mendonca/ciumeira.html   \n",
       "4  /marilia-mendonca/        /marilia-mendonca/bem-pior-que-eu.html   \n",
       "\n",
       "                                              lyrics  \\\n",
       "0  sei bem o que te faz bem eu sei mas no fundo e...   \n",
       "1  a garrafa precisa do copo o copo precisa da me...   \n",
       "2  acordei mais uma vez embriagado e o seu cheiro...   \n",
       "3  no começo eu entendia mas era só cama não tinh...   \n",
       "4  mente que vai dar uma volta e vem me ver entre...   \n",
       "\n",
       "                                          translated  foreign  \n",
       "0  sei bem o que te faz bem eu sei mas no fundo e...        2  \n",
       "1  a garrafa precisa do copo o copo precisa da me...        5  \n",
       "2  acordei mais uma vez embriagado e o seu cheiro...       22  \n",
       "3  no começo eu entendia era só cama não tinha am...       11  \n",
       "4  mente que vai dar uma volta e vem me ver entre...        3  "
      ]
     },
     "execution_count": 5,
     "metadata": {},
     "output_type": "execute_result"
    }
   ],
   "source": [
    "df.head()"
   ]
  },
  {
   "cell_type": "code",
   "execution_count": 16,
   "metadata": {},
   "outputs": [
    {
     "data": {
      "text/html": [
       "<div>\n",
       "<style scoped>\n",
       "    .dataframe tbody tr th:only-of-type {\n",
       "        vertical-align: middle;\n",
       "    }\n",
       "\n",
       "    .dataframe tbody tr th {\n",
       "        vertical-align: top;\n",
       "    }\n",
       "\n",
       "    .dataframe thead th {\n",
       "        text-align: right;\n",
       "    }\n",
       "</style>\n",
       "<table border=\"1\" class=\"dataframe\">\n",
       "  <thead>\n",
       "    <tr style=\"text-align: right;\">\n",
       "      <th></th>\n",
       "      <th>artist</th>\n",
       "      <th>music_name</th>\n",
       "      <th>lyrics</th>\n",
       "      <th>translated</th>\n",
       "      <th>foreign</th>\n",
       "    </tr>\n",
       "  </thead>\n",
       "  <tbody>\n",
       "    <tr>\n",
       "      <th>298</th>\n",
       "      <td>/anitta/</td>\n",
       "      <td>/anitta/juego.html</td>\n",
       "      <td>no yo no soy igual no te vaya' a equivocar ten...</td>\n",
       "      <td>NaN</td>\n",
       "      <td>286</td>\n",
       "    </tr>\n",
       "    <tr>\n",
       "      <th>310</th>\n",
       "      <td>/anitta/</td>\n",
       "      <td>/anitta/get-to-know-me-with-alesso.html</td>\n",
       "      <td>you wanna skip the conversation sayin' you're ...</td>\n",
       "      <td>NaN</td>\n",
       "      <td>332</td>\n",
       "    </tr>\n",
       "    <tr>\n",
       "      <th>616</th>\n",
       "      <td>/gabriela-rocha/</td>\n",
       "      <td>/gabriela-rocha/aleluia-hallelujah.html</td>\n",
       "      <td>aleluia hallelujah aleluia hallelujah aleluia ...</td>\n",
       "      <td>NaN</td>\n",
       "      <td>64</td>\n",
       "    </tr>\n",
       "    <tr>\n",
       "      <th>742</th>\n",
       "      <td>/ana-carolina/</td>\n",
       "      <td>/ana-carolina/encostar-na-tua.html</td>\n",
       "      <td>encostar na tua encostar na tua encostar na tu...</td>\n",
       "      <td>NaN</td>\n",
       "      <td>96</td>\n",
       "    </tr>\n",
       "    <tr>\n",
       "      <th>756</th>\n",
       "      <td>/ana-carolina/</td>\n",
       "      <td>/ana-carolina/10-minutos.html</td>\n",
       "      <td>minutos minutos minutos minutos minutos minuto...</td>\n",
       "      <td>NaN</td>\n",
       "      <td>35</td>\n",
       "    </tr>\n",
       "    <tr>\n",
       "      <th>757</th>\n",
       "      <td>/ana-carolina/</td>\n",
       "      <td>/ana-carolina/problemas.html</td>\n",
       "      <td>problemas problemas problemas problemas proble...</td>\n",
       "      <td>NaN</td>\n",
       "      <td>32</td>\n",
       "    </tr>\n",
       "  </tbody>\n",
       "</table>\n",
       "</div>"
      ],
      "text/plain": [
       "               artist                               music_name  \\\n",
       "298          /anitta/                       /anitta/juego.html   \n",
       "310          /anitta/  /anitta/get-to-know-me-with-alesso.html   \n",
       "616  /gabriela-rocha/  /gabriela-rocha/aleluia-hallelujah.html   \n",
       "742    /ana-carolina/       /ana-carolina/encostar-na-tua.html   \n",
       "756    /ana-carolina/            /ana-carolina/10-minutos.html   \n",
       "757    /ana-carolina/             /ana-carolina/problemas.html   \n",
       "\n",
       "                                                lyrics translated  foreign  \n",
       "298  no yo no soy igual no te vaya' a equivocar ten...        NaN      286  \n",
       "310  you wanna skip the conversation sayin' you're ...        NaN      332  \n",
       "616  aleluia hallelujah aleluia hallelujah aleluia ...        NaN       64  \n",
       "742  encostar na tua encostar na tua encostar na tu...        NaN       96  \n",
       "756  minutos minutos minutos minutos minutos minuto...        NaN       35  \n",
       "757  problemas problemas problemas problemas proble...        NaN       32  "
      ]
     },
     "execution_count": 16,
     "metadata": {},
     "output_type": "execute_result"
    }
   ],
   "source": [
    "df[pd.isnull(df).any(axis=1)]"
   ]
  },
  {
   "cell_type": "code",
   "execution_count": 11,
   "metadata": {},
   "outputs": [
    {
     "data": {
      "text/plain": [
       "'que quede claro si tú te portas bien yo te lo voy a dar como nunca te lo han dado no te equivoques cuida el terreno no sabes en lo que te estás metiéndo una vez que tu siembres en otro suelo porque yo soy tu veneno controlando tu cuerpo tú me das lo que quiero soy tu veneno estás jugando con fuego cuidao que te quemo porque yo soy tu veneno controlando tu cuerpo tú me das lo que quiero soy tu veneno estás jugando con fuego ten cuidao que te quemo que pienses más en mi de lo que pienso en ti tratas de mantenerte en el juego y te dejo seguir aún no tienes claro que soy la que controla pero dale vamos paso a paso que me va elevando el calor tu pantalón va guayando y ya te tengo pensando porque yo soy tu veneno controlando tu cuerpo tú me das lo que quiero soy tu veneno estás jugando con fuego cuidao que te quemo porque yo soy tu veneno controlando tu cuerpo tú me das lo que quiero soy tu veneno estás jugando con fuego ten cuidao que te quemo que quede claro si tú te portas bien yo te lo voy a dar como nunca te lo han dado no te equivoques cuida el terreno no sabes en lo que te estás metiéndo una vez que tu siembres en otro suelo porque yo soy tu veneno controlando tu cuerpo tú me das lo que quiero soy tu veneno estás jugando con fuego cuidao que te quemo porque yo soy tu veneno controlando tu cuerpo tú me das lo que quiero soy tu veneno estás jugando con fuego ten cuiado que te q'"
      ]
     },
     "execution_count": 11,
     "metadata": {},
     "output_type": "execute_result"
    }
   ],
   "source": [
    "df.iloc[293,2]"
   ]
  },
  {
   "cell_type": "code",
   "execution_count": 10,
   "metadata": {},
   "outputs": [
    {
     "data": {
      "text/plain": [
       "'dado tú cuidao que te quemo tú quemo seguir pero dale vamos paso a paso tú cuidao que te quemo tú quemo dado tú cuidao que te quemo tú q'"
      ]
     },
     "execution_count": 10,
     "metadata": {},
     "output_type": "execute_result"
    }
   ],
   "source": [
    "df.iloc[293,3]"
   ]
  },
  {
   "cell_type": "code",
   "execution_count": 6,
   "metadata": {},
   "outputs": [],
   "source": [
    "df = df.fillna('')"
   ]
  },
  {
   "cell_type": "code",
   "execution_count": 7,
   "metadata": {},
   "outputs": [],
   "source": [
    "#creates new df where the column lyrics carries every song of a given artist\n",
    "df1 = df.groupby('artist', sort=False).agg({'foreign': 'sum', 'lyrics': lambda x: ' '.join(x), 'translated': lambda x: ' '.join(x)}).reset_index()"
   ]
  },
  {
   "cell_type": "code",
   "execution_count": 8,
   "metadata": {},
   "outputs": [
    {
     "data": {
      "text/html": [
       "<div>\n",
       "<style scoped>\n",
       "    .dataframe tbody tr th:only-of-type {\n",
       "        vertical-align: middle;\n",
       "    }\n",
       "\n",
       "    .dataframe tbody tr th {\n",
       "        vertical-align: top;\n",
       "    }\n",
       "\n",
       "    .dataframe thead th {\n",
       "        text-align: right;\n",
       "    }\n",
       "</style>\n",
       "<table border=\"1\" class=\"dataframe\">\n",
       "  <thead>\n",
       "    <tr style=\"text-align: right;\">\n",
       "      <th></th>\n",
       "      <th>artist</th>\n",
       "      <th>foreign</th>\n",
       "      <th>lyrics</th>\n",
       "      <th>translated</th>\n",
       "    </tr>\n",
       "  </thead>\n",
       "  <tbody>\n",
       "    <tr>\n",
       "      <th>0</th>\n",
       "      <td>/marilia-mendonca/</td>\n",
       "      <td>412</td>\n",
       "      <td>sei bem o que te faz bem eu sei mas no fundo e...</td>\n",
       "      <td>sei bem o que te faz bem eu sei mas no fundo e...</td>\n",
       "    </tr>\n",
       "    <tr>\n",
       "      <th>1</th>\n",
       "      <td>/roberto-carlos/</td>\n",
       "      <td>512</td>\n",
       "      <td>eu tenho tanto pra lhe falar mas com palavras ...</td>\n",
       "      <td>eu tenho tanto pra lhe falar mas com palavras ...</td>\n",
       "    </tr>\n",
       "    <tr>\n",
       "      <th>2</th>\n",
       "      <td>/gusttavo-lima/</td>\n",
       "      <td>320</td>\n",
       "      <td>ô há mais de duas horas ensaiando uma recaída ...</td>\n",
       "      <td>ô há mais de duas horas ensaiando uma recaída ...</td>\n",
       "    </tr>\n",
       "    <tr>\n",
       "      <th>3</th>\n",
       "      <td>/jorge-e-mateus/</td>\n",
       "      <td>368</td>\n",
       "      <td>ela queima o arroz quebra copo na pia tropeça ...</td>\n",
       "      <td>ela queima o arroz tropeça no sofá machuca o d...</td>\n",
       "    </tr>\n",
       "    <tr>\n",
       "      <th>4</th>\n",
       "      <td>/aline-barros/</td>\n",
       "      <td>443</td>\n",
       "      <td>mestre eu preciso de um milagre transforma min...</td>\n",
       "      <td>mestre eu preciso de um milagre transforma min...</td>\n",
       "    </tr>\n",
       "  </tbody>\n",
       "</table>\n",
       "</div>"
      ],
      "text/plain": [
       "               artist  foreign  \\\n",
       "0  /marilia-mendonca/      412   \n",
       "1    /roberto-carlos/      512   \n",
       "2     /gusttavo-lima/      320   \n",
       "3    /jorge-e-mateus/      368   \n",
       "4      /aline-barros/      443   \n",
       "\n",
       "                                              lyrics  \\\n",
       "0  sei bem o que te faz bem eu sei mas no fundo e...   \n",
       "1  eu tenho tanto pra lhe falar mas com palavras ...   \n",
       "2  ô há mais de duas horas ensaiando uma recaída ...   \n",
       "3  ela queima o arroz quebra copo na pia tropeça ...   \n",
       "4  mestre eu preciso de um milagre transforma min...   \n",
       "\n",
       "                                          translated  \n",
       "0  sei bem o que te faz bem eu sei mas no fundo e...  \n",
       "1  eu tenho tanto pra lhe falar mas com palavras ...  \n",
       "2  ô há mais de duas horas ensaiando uma recaída ...  \n",
       "3  ela queima o arroz tropeça no sofá machuca o d...  \n",
       "4  mestre eu preciso de um milagre transforma min...  "
      ]
     },
     "execution_count": 8,
     "metadata": {},
     "output_type": "execute_result"
    }
   ],
   "source": [
    "df1.head()"
   ]
  },
  {
   "cell_type": "code",
   "execution_count": 9,
   "metadata": {},
   "outputs": [],
   "source": [
    "#removes stopwords and creates new column\n",
    "df1['no_stopwords'] = df1['lyrics'].apply(lambda x: remove_stopwords(x.split(' ')))"
   ]
  },
  {
   "cell_type": "code",
   "execution_count": 10,
   "metadata": {},
   "outputs": [],
   "source": [
    "#applies stemmer and creates new column\n",
    "df1['orengo'] = df1['lyrics'].apply(lambda x: orengo(x.split(' ')))"
   ]
  },
  {
   "cell_type": "code",
   "execution_count": 11,
   "metadata": {},
   "outputs": [],
   "source": [
    "#total number of words\n",
    "df1['words'] = df1['lyrics'].apply(lambda x: len(x.split(' ')))"
   ]
  },
  {
   "cell_type": "code",
   "execution_count": 12,
   "metadata": {},
   "outputs": [],
   "source": [
    "#total number of words without considering stopwords\n",
    "df1['words_ns'] = df1['no_stopwords'].apply(lambda x: len(x))"
   ]
  },
  {
   "cell_type": "code",
   "execution_count": 13,
   "metadata": {},
   "outputs": [],
   "source": [
    "#removes stopwords from translated text and creates new column\n",
    "df1['ns_pt'] = df1['translated'].apply(lambda x: remove_stopwords(x.split(' ')))"
   ]
  },
  {
   "cell_type": "code",
   "execution_count": 14,
   "metadata": {},
   "outputs": [],
   "source": [
    "#vocabulary\n",
    "df1['unique'] = df1['lyrics'].apply(lambda x: len(set(x.split(' '))))"
   ]
  },
  {
   "cell_type": "code",
   "execution_count": 15,
   "metadata": {},
   "outputs": [],
   "source": [
    "#vocabulary after stemming\n",
    "df1['orengo_unique'] = df1['orengo'].apply(lambda x: len(set(x)))"
   ]
  },
  {
   "cell_type": "code",
   "execution_count": 16,
   "metadata": {},
   "outputs": [],
   "source": [
    "#vocabulary without considering stopwords\n",
    "df1['ns_unique'] = df1['no_stopwords'].apply(lambda x: len(set(x)))"
   ]
  },
  {
   "cell_type": "code",
   "execution_count": 17,
   "metadata": {},
   "outputs": [],
   "source": [
    "#vocabulary without considering stopwords after stemming\n",
    "df1['ns_orengo_unique'] = df1['no_stopwords'].apply(lambda x: len(set(orengo(x))))"
   ]
  },
  {
   "cell_type": "code",
   "execution_count": 18,
   "metadata": {},
   "outputs": [],
   "source": [
    "#vocabulary after translation\n",
    "df1['unique_pt'] = df1['translated'].apply(lambda x: len(set(x.split(' '))))"
   ]
  },
  {
   "cell_type": "code",
   "execution_count": 19,
   "metadata": {},
   "outputs": [],
   "source": [
    "#vocabulary after stemming + translation\n",
    "df1['orengo_pt'] = df1['translated'].apply(lambda x: len(set(orengo(x.split(' ')))))"
   ]
  },
  {
   "cell_type": "code",
   "execution_count": 20,
   "metadata": {},
   "outputs": [],
   "source": [
    "#vocabulary without considering stopwords (translated)\n",
    "df1['ns_uni_pt'] = df1['ns_pt'].apply(lambda x: len(set(x)))"
   ]
  },
  {
   "cell_type": "code",
   "execution_count": 21,
   "metadata": {},
   "outputs": [],
   "source": [
    "#vocabulary without considering stopwords after stemming + translation\n",
    "df1['ns_or_pt'] = df1['ns_pt'].apply(lambda x: len(set(orengo(x))))"
   ]
  },
  {
   "cell_type": "code",
   "execution_count": 22,
   "metadata": {},
   "outputs": [
    {
     "data": {
      "text/html": [
       "<div>\n",
       "<style scoped>\n",
       "    .dataframe tbody tr th:only-of-type {\n",
       "        vertical-align: middle;\n",
       "    }\n",
       "\n",
       "    .dataframe tbody tr th {\n",
       "        vertical-align: top;\n",
       "    }\n",
       "\n",
       "    .dataframe thead th {\n",
       "        text-align: right;\n",
       "    }\n",
       "</style>\n",
       "<table border=\"1\" class=\"dataframe\">\n",
       "  <thead>\n",
       "    <tr style=\"text-align: right;\">\n",
       "      <th></th>\n",
       "      <th>artist</th>\n",
       "      <th>foreign</th>\n",
       "      <th>lyrics</th>\n",
       "      <th>translated</th>\n",
       "      <th>no_stopwords</th>\n",
       "      <th>orengo</th>\n",
       "      <th>words</th>\n",
       "      <th>words_ns</th>\n",
       "      <th>ns_pt</th>\n",
       "      <th>unique</th>\n",
       "      <th>orengo_unique</th>\n",
       "      <th>ns_unique</th>\n",
       "      <th>ns_orengo_unique</th>\n",
       "      <th>unique_pt</th>\n",
       "      <th>orengo_pt</th>\n",
       "      <th>ns_uni_pt</th>\n",
       "      <th>ns_or_pt</th>\n",
       "    </tr>\n",
       "  </thead>\n",
       "  <tbody>\n",
       "    <tr>\n",
       "      <th>0</th>\n",
       "      <td>/marilia-mendonca/</td>\n",
       "      <td>412</td>\n",
       "      <td>sei bem o que te faz bem eu sei mas no fundo e...</td>\n",
       "      <td>sei bem o que te faz bem eu sei mas no fundo e...</td>\n",
       "      <td>[sei, bem, faz, bem, sei, fundo, tentei, falto...</td>\n",
       "      <td>[sei, bem, o, que, te, faz, bem, eu, sei, mas,...</td>\n",
       "      <td>3951</td>\n",
       "      <td>2165</td>\n",
       "      <td>[sei, bem, faz, bem, sei, fundo, tentei, falto...</td>\n",
       "      <td>817</td>\n",
       "      <td>602</td>\n",
       "      <td>735</td>\n",
       "      <td>545</td>\n",
       "      <td>762</td>\n",
       "      <td>564</td>\n",
       "      <td>682</td>\n",
       "      <td>508</td>\n",
       "    </tr>\n",
       "    <tr>\n",
       "      <th>1</th>\n",
       "      <td>/roberto-carlos/</td>\n",
       "      <td>512</td>\n",
       "      <td>eu tenho tanto pra lhe falar mas com palavras ...</td>\n",
       "      <td>eu tenho tanto pra lhe falar mas com palavras ...</td>\n",
       "      <td>[tanto, pra, falar, palavras, sei, dizer, gran...</td>\n",
       "      <td>[eu, tenh, tant, pra, lhe, fal, mas, com, pala...</td>\n",
       "      <td>5171</td>\n",
       "      <td>2710</td>\n",
       "      <td>[tanto, pra, falar, palavras, sei, dizer, gran...</td>\n",
       "      <td>1040</td>\n",
       "      <td>730</td>\n",
       "      <td>943</td>\n",
       "      <td>667</td>\n",
       "      <td>981</td>\n",
       "      <td>693</td>\n",
       "      <td>884</td>\n",
       "      <td>628</td>\n",
       "    </tr>\n",
       "    <tr>\n",
       "      <th>2</th>\n",
       "      <td>/gusttavo-lima/</td>\n",
       "      <td>320</td>\n",
       "      <td>ô há mais de duas horas ensaiando uma recaída ...</td>\n",
       "      <td>ô há mais de duas horas ensaiando uma recaída ...</td>\n",
       "      <td>[ô, duas, horas, ensaiando, recaída, número, t...</td>\n",
       "      <td>[ô, há, mais, de, dua, hor, ensai, uma, recaíd...</td>\n",
       "      <td>4414</td>\n",
       "      <td>2306</td>\n",
       "      <td>[ô, duas, horas, ensaiando, recaída, número, t...</td>\n",
       "      <td>844</td>\n",
       "      <td>679</td>\n",
       "      <td>752</td>\n",
       "      <td>613</td>\n",
       "      <td>794</td>\n",
       "      <td>641</td>\n",
       "      <td>704</td>\n",
       "      <td>576</td>\n",
       "    </tr>\n",
       "    <tr>\n",
       "      <th>3</th>\n",
       "      <td>/jorge-e-mateus/</td>\n",
       "      <td>368</td>\n",
       "      <td>ela queima o arroz quebra copo na pia tropeça ...</td>\n",
       "      <td>ela queima o arroz tropeça no sofá machuca o d...</td>\n",
       "      <td>[queima, arroz, quebra, copo, pia, tropeça, so...</td>\n",
       "      <td>[ela, queim, o, arroz, quebr, cop, na, pia, tr...</td>\n",
       "      <td>4120</td>\n",
       "      <td>2162</td>\n",
       "      <td>[queima, arroz, tropeça, sofá, machuca, dedinh...</td>\n",
       "      <td>766</td>\n",
       "      <td>592</td>\n",
       "      <td>682</td>\n",
       "      <td>530</td>\n",
       "      <td>709</td>\n",
       "      <td>556</td>\n",
       "      <td>625</td>\n",
       "      <td>494</td>\n",
       "    </tr>\n",
       "    <tr>\n",
       "      <th>4</th>\n",
       "      <td>/aline-barros/</td>\n",
       "      <td>443</td>\n",
       "      <td>mestre eu preciso de um milagre transforma min...</td>\n",
       "      <td>mestre eu preciso de um milagre transforma min...</td>\n",
       "      <td>[mestre, preciso, milagre, transforma, vida, e...</td>\n",
       "      <td>[mestr, eu, precis, de, um, milagr, transform,...</td>\n",
       "      <td>3826</td>\n",
       "      <td>2081</td>\n",
       "      <td>[mestre, preciso, milagre, transforma, vida, e...</td>\n",
       "      <td>747</td>\n",
       "      <td>581</td>\n",
       "      <td>650</td>\n",
       "      <td>520</td>\n",
       "      <td>677</td>\n",
       "      <td>522</td>\n",
       "      <td>584</td>\n",
       "      <td>464</td>\n",
       "    </tr>\n",
       "  </tbody>\n",
       "</table>\n",
       "</div>"
      ],
      "text/plain": [
       "               artist  foreign  \\\n",
       "0  /marilia-mendonca/      412   \n",
       "1    /roberto-carlos/      512   \n",
       "2     /gusttavo-lima/      320   \n",
       "3    /jorge-e-mateus/      368   \n",
       "4      /aline-barros/      443   \n",
       "\n",
       "                                              lyrics  \\\n",
       "0  sei bem o que te faz bem eu sei mas no fundo e...   \n",
       "1  eu tenho tanto pra lhe falar mas com palavras ...   \n",
       "2  ô há mais de duas horas ensaiando uma recaída ...   \n",
       "3  ela queima o arroz quebra copo na pia tropeça ...   \n",
       "4  mestre eu preciso de um milagre transforma min...   \n",
       "\n",
       "                                          translated  \\\n",
       "0  sei bem o que te faz bem eu sei mas no fundo e...   \n",
       "1  eu tenho tanto pra lhe falar mas com palavras ...   \n",
       "2  ô há mais de duas horas ensaiando uma recaída ...   \n",
       "3  ela queima o arroz tropeça no sofá machuca o d...   \n",
       "4  mestre eu preciso de um milagre transforma min...   \n",
       "\n",
       "                                        no_stopwords  \\\n",
       "0  [sei, bem, faz, bem, sei, fundo, tentei, falto...   \n",
       "1  [tanto, pra, falar, palavras, sei, dizer, gran...   \n",
       "2  [ô, duas, horas, ensaiando, recaída, número, t...   \n",
       "3  [queima, arroz, quebra, copo, pia, tropeça, so...   \n",
       "4  [mestre, preciso, milagre, transforma, vida, e...   \n",
       "\n",
       "                                              orengo  words  words_ns  \\\n",
       "0  [sei, bem, o, que, te, faz, bem, eu, sei, mas,...   3951      2165   \n",
       "1  [eu, tenh, tant, pra, lhe, fal, mas, com, pala...   5171      2710   \n",
       "2  [ô, há, mais, de, dua, hor, ensai, uma, recaíd...   4414      2306   \n",
       "3  [ela, queim, o, arroz, quebr, cop, na, pia, tr...   4120      2162   \n",
       "4  [mestr, eu, precis, de, um, milagr, transform,...   3826      2081   \n",
       "\n",
       "                                               ns_pt  unique  orengo_unique  \\\n",
       "0  [sei, bem, faz, bem, sei, fundo, tentei, falto...     817            602   \n",
       "1  [tanto, pra, falar, palavras, sei, dizer, gran...    1040            730   \n",
       "2  [ô, duas, horas, ensaiando, recaída, número, t...     844            679   \n",
       "3  [queima, arroz, tropeça, sofá, machuca, dedinh...     766            592   \n",
       "4  [mestre, preciso, milagre, transforma, vida, e...     747            581   \n",
       "\n",
       "   ns_unique  ns_orengo_unique  unique_pt  orengo_pt  ns_uni_pt  ns_or_pt  \n",
       "0        735               545        762        564        682       508  \n",
       "1        943               667        981        693        884       628  \n",
       "2        752               613        794        641        704       576  \n",
       "3        682               530        709        556        625       494  \n",
       "4        650               520        677        522        584       464  "
      ]
     },
     "execution_count": 22,
     "metadata": {},
     "output_type": "execute_result"
    }
   ],
   "source": [
    "df1.head()"
   ]
  },
  {
   "cell_type": "code",
   "execution_count": 23,
   "metadata": {},
   "outputs": [],
   "source": [
    "df1.to_csv('./data/final_data.csv', index=False)"
   ]
  },
  {
   "cell_type": "code",
   "execution_count": null,
   "metadata": {},
   "outputs": [],
   "source": []
  },
  {
   "cell_type": "code",
   "execution_count": null,
   "metadata": {},
   "outputs": [],
   "source": []
  }
 ],
 "metadata": {
  "kernelspec": {
   "display_name": "Python 3",
   "language": "python",
   "name": "python3"
  },
  "language_info": {
   "codemirror_mode": {
    "name": "ipython",
    "version": 3
   },
   "file_extension": ".py",
   "mimetype": "text/x-python",
   "name": "python",
   "nbconvert_exporter": "python",
   "pygments_lexer": "ipython3",
   "version": "3.7.3"
  }
 },
 "nbformat": 4,
 "nbformat_minor": 2
}
