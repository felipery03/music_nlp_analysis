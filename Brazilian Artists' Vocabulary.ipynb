{
 "cells": [
  {
   "cell_type": "code",
   "execution_count": 1,
   "metadata": {},
   "outputs": [],
   "source": [
    "import pandas as pd\n",
    "import numpy as np\n",
    "from textblob import TextBlob as tb\n",
    "import langid\n",
    "import os\n",
    "import re\n",
    "import nltk\n",
    "from nltk.stem import RSLPStemmer"
   ]
  },
  {
   "cell_type": "code",
   "execution_count": 2,
   "metadata": {},
   "outputs": [],
   "source": [
    "def orengo(song):\n",
    "    st = RSLPStemmer()\n",
    "    words = filter(lambda x: len(x)>0, song)\n",
    "    word_list = list(map(lambda x: st.stem(x), words))\n",
    "    return word_list"
   ]
  },
  {
   "cell_type": "code",
   "execution_count": 3,
   "metadata": {},
   "outputs": [],
   "source": [
    "def remove_stopwords(doc):\n",
    "    stopwords = nltk.corpus.stopwords.words('portuguese')\n",
    "    new_doc = list(filter(lambda x: x not in stopwords, doc))\n",
    "    return new_doc"
   ]
  },
  {
   "cell_type": "code",
   "execution_count": 4,
   "metadata": {},
   "outputs": [],
   "source": [
    "df = pd.read_csv('.\\data\\dataset_lyrics.csv')"
   ]
  },
  {
   "cell_type": "code",
   "execution_count": 5,
   "metadata": {},
   "outputs": [],
   "source": [
    "#removes compilations\n",
    "df = df[(df.artist != '/colecao-amo-voce/')&(df.artist != '/corinhos-infantis/')&(df.artist != '/corinhos-evangelicos/')&\n",
    "        (df.artist != '/harpa-crista/')&(df.artist != '/hinos/')&(df.artist != '/musicas-catolicas/')&(df.artist != '/musicas-gospel/')&\n",
    "        (df.artist != '/pineapple/')&(df.artist != '/umbanda/')&(df.artist != '/alok/')]"
   ]
  },
  {
   "cell_type": "code",
   "execution_count": 6,
   "metadata": {},
   "outputs": [],
   "source": [
    "#removes artists with less than 25 songs\n",
    "df = df[(df.artist != '/melim/')&(df.artist != '/kell-smith/')&(df.artist != '/midiam-lima/')&(df.artist != '/isadora-pompeo/')]"
   ]
  },
  {
   "cell_type": "code",
   "execution_count": 7,
   "metadata": {},
   "outputs": [
    {
     "data": {
      "text/html": [
       "<div>\n",
       "<style scoped>\n",
       "    .dataframe tbody tr th:only-of-type {\n",
       "        vertical-align: middle;\n",
       "    }\n",
       "\n",
       "    .dataframe tbody tr th {\n",
       "        vertical-align: top;\n",
       "    }\n",
       "\n",
       "    .dataframe thead th {\n",
       "        text-align: right;\n",
       "    }\n",
       "</style>\n",
       "<table border=\"1\" class=\"dataframe\">\n",
       "  <thead>\n",
       "    <tr style=\"text-align: right;\">\n",
       "      <th></th>\n",
       "      <th>artist</th>\n",
       "      <th>music_name</th>\n",
       "      <th>lyrics</th>\n",
       "    </tr>\n",
       "  </thead>\n",
       "  <tbody>\n",
       "    <tr>\n",
       "      <th>count</th>\n",
       "      <td>2163</td>\n",
       "      <td>2163</td>\n",
       "      <td>2163</td>\n",
       "    </tr>\n",
       "    <tr>\n",
       "      <th>unique</th>\n",
       "      <td>87</td>\n",
       "      <td>2163</td>\n",
       "      <td>2163</td>\n",
       "    </tr>\n",
       "    <tr>\n",
       "      <th>top</th>\n",
       "      <td>/thiaguinho/</td>\n",
       "      <td>/roupa-nova/whisky-a-go-go.html</td>\n",
       "      <td>&lt;div data-plugin=\"googleTranslate\" id=\"lyrics\"...</td>\n",
       "    </tr>\n",
       "    <tr>\n",
       "      <th>freq</th>\n",
       "      <td>25</td>\n",
       "      <td>1</td>\n",
       "      <td>1</td>\n",
       "    </tr>\n",
       "  </tbody>\n",
       "</table>\n",
       "</div>"
      ],
      "text/plain": [
       "              artist                       music_name  \\\n",
       "count           2163                             2163   \n",
       "unique            87                             2163   \n",
       "top     /thiaguinho/  /roupa-nova/whisky-a-go-go.html   \n",
       "freq              25                                1   \n",
       "\n",
       "                                                   lyrics  \n",
       "count                                                2163  \n",
       "unique                                               2163  \n",
       "top     <div data-plugin=\"googleTranslate\" id=\"lyrics\"...  \n",
       "freq                                                    1  "
      ]
     },
     "execution_count": 7,
     "metadata": {},
     "output_type": "execute_result"
    }
   ],
   "source": [
    "df.describe()"
   ]
  },
  {
   "cell_type": "code",
   "execution_count": 8,
   "metadata": {},
   "outputs": [],
   "source": [
    "#data cleansing\n",
    "df['lyrics'] = df['lyrics'].str.strip('<div data-plugin=\"\"googleTranslate\"\" id=\"\"lyrics\"\">')\n",
    "df['lyrics'] = df['lyrics'].str.strip('<img alt=\"Instrumental\" class=\"instrumental-icon\" src=\"/img/etc/instrumental.png\"/')\n",
    "df['lyrics'] = df['lyrics'].apply(lambda x: x.lower())"
   ]
  },
  {
   "cell_type": "code",
   "execution_count": 9,
   "metadata": {},
   "outputs": [],
   "source": [
    "df['lyrics'] = df['lyrics'].str.replace('\\n', ' ')\n",
    "#df['lyrics'] = df['lyrics'].str.replace('\\r', '')\n",
    "df['lyrics'] = df['lyrics'].apply(lambda x: re.sub('[0-9!,.;:\\]?}{()\"[\"|@#$%*]', \"\", x))"
   ]
  },
  {
   "cell_type": "code",
   "execution_count": 10,
   "metadata": {},
   "outputs": [],
   "source": [
    "#creates new df where the column lyrics carries every song of a given artist\n",
    "df1 = df.groupby('artist')['lyrics'].apply(' '.join).reset_index()"
   ]
  },
  {
   "cell_type": "code",
   "execution_count": 11,
   "metadata": {},
   "outputs": [],
   "source": [
    "#applies stemmer and creates new column\n",
    "df1['orengo'] = df1['lyrics'].apply(lambda x: orengo(x.split(' ')))"
   ]
  },
  {
   "cell_type": "code",
   "execution_count": 12,
   "metadata": {},
   "outputs": [],
   "source": [
    "#removes stopwords and creates new column\n",
    "df1['no_stopwords'] = df1['lyrics'].apply(lambda x: remove_stopwords(x.split(' ')))"
   ]
  },
  {
   "cell_type": "code",
   "execution_count": null,
   "metadata": {},
   "outputs": [],
   "source": [
    "#removes stopwords from translated text and creates new column\n",
    "df1['ns_pt'] = df1['translated'].apply(lambda x: remove_stopwords(x.split(' ')))"
   ]
  },
  {
   "cell_type": "code",
   "execution_count": 13,
   "metadata": {},
   "outputs": [],
   "source": [
    "#vocabulary\n",
    "df1['unique'] = df1['lyrics'].apply(lambda x: len(set(x.split(' '))))"
   ]
  },
  {
   "cell_type": "code",
   "execution_count": 14,
   "metadata": {},
   "outputs": [],
   "source": [
    "#vocabulary after stemming\n",
    "df1['orengo_unique'] = df1['orengo'].apply(lambda x: len(set(x)))"
   ]
  },
  {
   "cell_type": "code",
   "execution_count": 15,
   "metadata": {},
   "outputs": [],
   "source": [
    "#vocabulary without considering stopwords\n",
    "df1['ns_unique'] = df1['no_stopwords'].apply(lambda x: len(set(x)))"
   ]
  },
  {
   "cell_type": "code",
   "execution_count": 16,
   "metadata": {},
   "outputs": [],
   "source": [
    "#vocabulary without considering stopwords after stemming\n",
    "df1['ns_orengo_unique'] = df1['no_stopwords'].apply(lambda x: len(set(orengo(x))))"
   ]
  },
  {
   "cell_type": "code",
   "execution_count": null,
   "metadata": {},
   "outputs": [],
   "source": [
    "#vocabulary after translation\n",
    "df1['unique_pt'] = df['translated'].apply(lambda x: len(set(x.split(' '))))"
   ]
  },
  {
   "cell_type": "code",
   "execution_count": null,
   "metadata": {},
   "outputs": [],
   "source": [
    "#vocabulary after stemming + translation\n",
    "df1['orengo_pt'] = df['translated'].apply(lambda x: len(set(x)))"
   ]
  },
  {
   "cell_type": "code",
   "execution_count": null,
   "metadata": {},
   "outputs": [],
   "source": [
    "#vocabulary without considering stopwords (translated)\n",
    "df1['ns_uni_pt'] = df1['ns_pt'].apply(lambda x: len(set(x)))"
   ]
  },
  {
   "cell_type": "code",
   "execution_count": null,
   "metadata": {},
   "outputs": [],
   "source": [
    "#vocabulary without considering stopwords after stemming + translation\n",
    "df1['ns_or_pt'] = df1['ns_pt'].apply(lambda x: len(set(orengo(x))))"
   ]
  },
  {
   "cell_type": "code",
   "execution_count": 17,
   "metadata": {},
   "outputs": [
    {
     "data": {
      "text/html": [
       "<div>\n",
       "<style scoped>\n",
       "    .dataframe tbody tr th:only-of-type {\n",
       "        vertical-align: middle;\n",
       "    }\n",
       "\n",
       "    .dataframe tbody tr th {\n",
       "        vertical-align: top;\n",
       "    }\n",
       "\n",
       "    .dataframe thead th {\n",
       "        text-align: right;\n",
       "    }\n",
       "</style>\n",
       "<table border=\"1\" class=\"dataframe\">\n",
       "  <thead>\n",
       "    <tr style=\"text-align: right;\">\n",
       "      <th></th>\n",
       "      <th>artist</th>\n",
       "      <th>lyrics</th>\n",
       "      <th>orengo</th>\n",
       "      <th>no_stopwords</th>\n",
       "      <th>unique</th>\n",
       "      <th>orengo_unique</th>\n",
       "      <th>ns_unique</th>\n",
       "      <th>ns_orengo_unique</th>\n",
       "    </tr>\n",
       "  </thead>\n",
       "  <tbody>\n",
       "    <tr>\n",
       "      <th>0</th>\n",
       "      <td>/aline-barros/</td>\n",
       "      <td>mestre eu preciso de um milagre transforma min...</td>\n",
       "      <td>[mestr, eu, precis, de, um, milagr, transform,...</td>\n",
       "      <td>[mestre, preciso, milagre, transforma, vida, e...</td>\n",
       "      <td>748</td>\n",
       "      <td>581</td>\n",
       "      <td>651</td>\n",
       "      <td>520</td>\n",
       "    </tr>\n",
       "    <tr>\n",
       "      <th>1</th>\n",
       "      <td>/amado-batista/</td>\n",
       "      <td>ao te ver pela primeira vez eu tremi todo uma ...</td>\n",
       "      <td>[ao, te, ver, pel, prim, vez, eu, trem, tod, u...</td>\n",
       "      <td>[ver, primeira, vez, tremi, todo, coisa, tomou...</td>\n",
       "      <td>846</td>\n",
       "      <td>621</td>\n",
       "      <td>750</td>\n",
       "      <td>559</td>\n",
       "    </tr>\n",
       "    <tr>\n",
       "      <th>2</th>\n",
       "      <td>/ana-carolina/</td>\n",
       "      <td>eu e você não é assim tão complicado não é dif...</td>\n",
       "      <td>[eu, e, voc, não, é, assim, tão, complic, não,...</td>\n",
       "      <td>[assim, tão, complicado, difícil, perceber, , ...</td>\n",
       "      <td>776</td>\n",
       "      <td>599</td>\n",
       "      <td>686</td>\n",
       "      <td>539</td>\n",
       "    </tr>\n",
       "    <tr>\n",
       "      <th>3</th>\n",
       "      <td>/anavitoria/</td>\n",
       "      <td>eu poderia acordar sem teu olhar de sono sem t...</td>\n",
       "      <td>[eu, pod, acord, sem, teu, olh, de, son, sem, ...</td>\n",
       "      <td>[poderia, acordar, olhar, sono, lábio, dono, q...</td>\n",
       "      <td>852</td>\n",
       "      <td>673</td>\n",
       "      <td>767</td>\n",
       "      <td>613</td>\n",
       "    </tr>\n",
       "    <tr>\n",
       "      <th>4</th>\n",
       "      <td>/anderson-freire/</td>\n",
       "      <td>não consigo ir além do teu olhar tudo que eu c...</td>\n",
       "      <td>[não, consig, ir, além, do, teu, olh, tud, que...</td>\n",
       "      <td>[consigo, ir, além, olhar, tudo, consigo, imag...</td>\n",
       "      <td>1127</td>\n",
       "      <td>868</td>\n",
       "      <td>1025</td>\n",
       "      <td>801</td>\n",
       "    </tr>\n",
       "  </tbody>\n",
       "</table>\n",
       "</div>"
      ],
      "text/plain": [
       "              artist                                             lyrics  \\\n",
       "0     /aline-barros/  mestre eu preciso de um milagre transforma min...   \n",
       "1    /amado-batista/  ao te ver pela primeira vez eu tremi todo uma ...   \n",
       "2     /ana-carolina/  eu e você não é assim tão complicado não é dif...   \n",
       "3       /anavitoria/  eu poderia acordar sem teu olhar de sono sem t...   \n",
       "4  /anderson-freire/  não consigo ir além do teu olhar tudo que eu c...   \n",
       "\n",
       "                                              orengo  \\\n",
       "0  [mestr, eu, precis, de, um, milagr, transform,...   \n",
       "1  [ao, te, ver, pel, prim, vez, eu, trem, tod, u...   \n",
       "2  [eu, e, voc, não, é, assim, tão, complic, não,...   \n",
       "3  [eu, pod, acord, sem, teu, olh, de, son, sem, ...   \n",
       "4  [não, consig, ir, além, do, teu, olh, tud, que...   \n",
       "\n",
       "                                        no_stopwords  unique  orengo_unique  \\\n",
       "0  [mestre, preciso, milagre, transforma, vida, e...     748            581   \n",
       "1  [ver, primeira, vez, tremi, todo, coisa, tomou...     846            621   \n",
       "2  [assim, tão, complicado, difícil, perceber, , ...     776            599   \n",
       "3  [poderia, acordar, olhar, sono, lábio, dono, q...     852            673   \n",
       "4  [consigo, ir, além, olhar, tudo, consigo, imag...    1127            868   \n",
       "\n",
       "   ns_unique  ns_orengo_unique  \n",
       "0        651               520  \n",
       "1        750               559  \n",
       "2        686               539  \n",
       "3        767               613  \n",
       "4       1025               801  "
      ]
     },
     "execution_count": 17,
     "metadata": {},
     "output_type": "execute_result"
    }
   ],
   "source": [
    "df1.head()"
   ]
  },
  {
   "cell_type": "code",
   "execution_count": 18,
   "metadata": {},
   "outputs": [],
   "source": [
    "df1.to_csv('./data/final_data.csv', index=False)"
   ]
  },
  {
   "cell_type": "code",
   "execution_count": null,
   "metadata": {},
   "outputs": [],
   "source": []
  }
 ],
 "metadata": {
  "kernelspec": {
   "display_name": "Python 3",
   "language": "python",
   "name": "python3"
  },
  "language_info": {
   "codemirror_mode": {
    "name": "ipython",
    "version": 3
   },
   "file_extension": ".py",
   "mimetype": "text/x-python",
   "name": "python",
   "nbconvert_exporter": "python",
   "pygments_lexer": "ipython3",
   "version": "3.7.3"
  }
 },
 "nbformat": 4,
 "nbformat_minor": 2
}
