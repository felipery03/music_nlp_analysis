{
 "cells": [
  {
   "cell_type": "code",
   "execution_count": 1,
   "metadata": {},
   "outputs": [],
   "source": [
    "import pandas as pd\n",
    "import numpy as np\n",
    "import os\n",
    "import re\n",
    "import nltk\n",
    "from nltk.stem import RSLPStemmer"
   ]
  },
  {
   "cell_type": "code",
   "execution_count": 2,
   "metadata": {},
   "outputs": [],
   "source": [
    "def orengo(song):\n",
    "    st = RSLPStemmer()\n",
    "    words = filter(lambda x: len(x)>0, song)\n",
    "    word_list = list(map(lambda x: st.stem(x), words))\n",
    "    return word_list"
   ]
  },
  {
   "cell_type": "code",
   "execution_count": 3,
   "metadata": {},
   "outputs": [],
   "source": [
    "def remove_stopwords(doc):\n",
    "    stopwords = nltk.corpus.stopwords.words('portuguese')\n",
    "    new_doc = list(filter(lambda x: x not in stopwords, doc))\n",
    "    return new_doc"
   ]
  },
  {
   "cell_type": "code",
   "execution_count": 4,
   "metadata": {},
   "outputs": [],
   "source": [
    "df = pd.read_csv('.\\data\\data.csv')"
   ]
  },
  {
   "cell_type": "code",
   "execution_count": 5,
   "metadata": {},
   "outputs": [
    {
     "data": {
      "text/html": [
       "<div>\n",
       "<style scoped>\n",
       "    .dataframe tbody tr th:only-of-type {\n",
       "        vertical-align: middle;\n",
       "    }\n",
       "\n",
       "    .dataframe tbody tr th {\n",
       "        vertical-align: top;\n",
       "    }\n",
       "\n",
       "    .dataframe thead th {\n",
       "        text-align: right;\n",
       "    }\n",
       "</style>\n",
       "<table border=\"1\" class=\"dataframe\">\n",
       "  <thead>\n",
       "    <tr style=\"text-align: right;\">\n",
       "      <th></th>\n",
       "      <th>artist</th>\n",
       "      <th>music_name</th>\n",
       "      <th>lyrics</th>\n",
       "      <th>translated</th>\n",
       "      <th>foreign</th>\n",
       "    </tr>\n",
       "  </thead>\n",
       "  <tbody>\n",
       "    <tr>\n",
       "      <th>0</th>\n",
       "      <td>/marilia-mendonca/</td>\n",
       "      <td>/marilia-mendonca/ausencia.html</td>\n",
       "      <td>sei bem o que te faz bem eu sei mas no fundo e...</td>\n",
       "      <td>sei bem o que te faz bem eu sei mas no fundo e...</td>\n",
       "      <td>2</td>\n",
       "    </tr>\n",
       "    <tr>\n",
       "      <th>1</th>\n",
       "      <td>/marilia-mendonca/</td>\n",
       "      <td>/marilia-mendonca/todo-mundo-vai-sofrer.html</td>\n",
       "      <td>a garrafa precisa do copo o copo precisa da me...</td>\n",
       "      <td>a garrafa precisa do copo o copo precisa da me...</td>\n",
       "      <td>5</td>\n",
       "    </tr>\n",
       "    <tr>\n",
       "      <th>2</th>\n",
       "      <td>/marilia-mendonca/</td>\n",
       "      <td>/marilia-mendonca/bebi-liguei.html</td>\n",
       "      <td>acordei mais uma vez embriagado e o seu cheiro...</td>\n",
       "      <td>acordei mais uma vez embriagado e o seu cheiro...</td>\n",
       "      <td>22</td>\n",
       "    </tr>\n",
       "    <tr>\n",
       "      <th>3</th>\n",
       "      <td>/marilia-mendonca/</td>\n",
       "      <td>/marilia-mendonca/ciumeira.html</td>\n",
       "      <td>no começo eu entendia mas era só cama não tinh...</td>\n",
       "      <td>no começo eu entendia era só cama não tinha am...</td>\n",
       "      <td>11</td>\n",
       "    </tr>\n",
       "    <tr>\n",
       "      <th>4</th>\n",
       "      <td>/marilia-mendonca/</td>\n",
       "      <td>/marilia-mendonca/bem-pior-que-eu.html</td>\n",
       "      <td>mente que vai dar uma volta e vem me ver entre...</td>\n",
       "      <td>mente que vai dar uma volta e vem me ver entre...</td>\n",
       "      <td>3</td>\n",
       "    </tr>\n",
       "  </tbody>\n",
       "</table>\n",
       "</div>"
      ],
      "text/plain": [
       "               artist                                    music_name  \\\n",
       "0  /marilia-mendonca/               /marilia-mendonca/ausencia.html   \n",
       "1  /marilia-mendonca/  /marilia-mendonca/todo-mundo-vai-sofrer.html   \n",
       "2  /marilia-mendonca/            /marilia-mendonca/bebi-liguei.html   \n",
       "3  /marilia-mendonca/               /marilia-mendonca/ciumeira.html   \n",
       "4  /marilia-mendonca/        /marilia-mendonca/bem-pior-que-eu.html   \n",
       "\n",
       "                                              lyrics  \\\n",
       "0  sei bem o que te faz bem eu sei mas no fundo e...   \n",
       "1  a garrafa precisa do copo o copo precisa da me...   \n",
       "2  acordei mais uma vez embriagado e o seu cheiro...   \n",
       "3  no começo eu entendia mas era só cama não tinh...   \n",
       "4  mente que vai dar uma volta e vem me ver entre...   \n",
       "\n",
       "                                          translated  foreign  \n",
       "0  sei bem o que te faz bem eu sei mas no fundo e...        2  \n",
       "1  a garrafa precisa do copo o copo precisa da me...        5  \n",
       "2  acordei mais uma vez embriagado e o seu cheiro...       22  \n",
       "3  no começo eu entendia era só cama não tinha am...       11  \n",
       "4  mente que vai dar uma volta e vem me ver entre...        3  "
      ]
     },
     "execution_count": 5,
     "metadata": {},
     "output_type": "execute_result"
    }
   ],
   "source": [
    "df.head()"
   ]
  },
  {
   "cell_type": "code",
   "execution_count": 6,
   "metadata": {},
   "outputs": [],
   "source": [
    "df = df.fillna('')"
   ]
  },
  {
   "cell_type": "code",
   "execution_count": 7,
   "metadata": {},
   "outputs": [],
   "source": [
    "#creates new df where the column lyrics carries every song of a given artist\n",
    "df1 = df.groupby('artist').agg({'foreign': 'sum', 'lyrics': lambda x: ' '.join(x), 'translated': lambda x: ' '.join(x)}).reset_index()"
   ]
  },
  {
   "cell_type": "code",
   "execution_count": 8,
   "metadata": {},
   "outputs": [
    {
     "data": {
      "text/html": [
       "<div>\n",
       "<style scoped>\n",
       "    .dataframe tbody tr th:only-of-type {\n",
       "        vertical-align: middle;\n",
       "    }\n",
       "\n",
       "    .dataframe tbody tr th {\n",
       "        vertical-align: top;\n",
       "    }\n",
       "\n",
       "    .dataframe thead th {\n",
       "        text-align: right;\n",
       "    }\n",
       "</style>\n",
       "<table border=\"1\" class=\"dataframe\">\n",
       "  <thead>\n",
       "    <tr style=\"text-align: right;\">\n",
       "      <th></th>\n",
       "      <th>artist</th>\n",
       "      <th>foreign</th>\n",
       "      <th>lyrics</th>\n",
       "      <th>translated</th>\n",
       "    </tr>\n",
       "  </thead>\n",
       "  <tbody>\n",
       "    <tr>\n",
       "      <th>0</th>\n",
       "      <td>/aline-barros/</td>\n",
       "      <td>443</td>\n",
       "      <td>mestre eu preciso de um milagre transforma min...</td>\n",
       "      <td>mestre eu preciso de um milagre transforma min...</td>\n",
       "    </tr>\n",
       "    <tr>\n",
       "      <th>1</th>\n",
       "      <td>/amado-batista/</td>\n",
       "      <td>297</td>\n",
       "      <td>ao te ver pela primeira vez eu tremi todo uma ...</td>\n",
       "      <td>ao te ver pela primeira vez eu tremi todo uma ...</td>\n",
       "    </tr>\n",
       "    <tr>\n",
       "      <th>2</th>\n",
       "      <td>/ana-carolina/</td>\n",
       "      <td>535</td>\n",
       "      <td>eu e você não é assim tão complicado não é dif...</td>\n",
       "      <td>eu e você não é assim tão complicado não é dif...</td>\n",
       "    </tr>\n",
       "    <tr>\n",
       "      <th>3</th>\n",
       "      <td>/anavitoria/</td>\n",
       "      <td>681</td>\n",
       "      <td>eu poderia acordar sem teu olhar de sono sem t...</td>\n",
       "      <td>eu poderia acordar sem teu olhar de sono sem t...</td>\n",
       "    </tr>\n",
       "    <tr>\n",
       "      <th>4</th>\n",
       "      <td>/anderson-freire/</td>\n",
       "      <td>505</td>\n",
       "      <td>não consigo ir além do teu olhar tudo que eu c...</td>\n",
       "      <td>não consigo ir além do teu olhar tudo que eu c...</td>\n",
       "    </tr>\n",
       "  </tbody>\n",
       "</table>\n",
       "</div>"
      ],
      "text/plain": [
       "              artist  foreign  \\\n",
       "0     /aline-barros/      443   \n",
       "1    /amado-batista/      297   \n",
       "2     /ana-carolina/      535   \n",
       "3       /anavitoria/      681   \n",
       "4  /anderson-freire/      505   \n",
       "\n",
       "                                              lyrics  \\\n",
       "0  mestre eu preciso de um milagre transforma min...   \n",
       "1  ao te ver pela primeira vez eu tremi todo uma ...   \n",
       "2  eu e você não é assim tão complicado não é dif...   \n",
       "3  eu poderia acordar sem teu olhar de sono sem t...   \n",
       "4  não consigo ir além do teu olhar tudo que eu c...   \n",
       "\n",
       "                                          translated  \n",
       "0  mestre eu preciso de um milagre transforma min...  \n",
       "1  ao te ver pela primeira vez eu tremi todo uma ...  \n",
       "2  eu e você não é assim tão complicado não é dif...  \n",
       "3  eu poderia acordar sem teu olhar de sono sem t...  \n",
       "4  não consigo ir além do teu olhar tudo que eu c...  "
      ]
     },
     "execution_count": 8,
     "metadata": {},
     "output_type": "execute_result"
    }
   ],
   "source": [
    "df1.head()"
   ]
  },
  {
   "cell_type": "code",
   "execution_count": 9,
   "metadata": {},
   "outputs": [],
   "source": [
    "#removes stopwords and creates new column\n",
    "df1['no_stopwords'] = df1['lyrics'].apply(lambda x: remove_stopwords(x.split(' ')))"
   ]
  },
  {
   "cell_type": "code",
   "execution_count": 10,
   "metadata": {},
   "outputs": [],
   "source": [
    "#applies stemmer and creates new column\n",
    "df1['orengo'] = df1['lyrics'].apply(lambda x: orengo(x.split(' ')))"
   ]
  },
  {
   "cell_type": "code",
   "execution_count": 11,
   "metadata": {},
   "outputs": [],
   "source": [
    "#total number of words\n",
    "df1['words'] = df1['lyrics'].apply(lambda x: len(x.split(' ')))"
   ]
  },
  {
   "cell_type": "code",
   "execution_count": 12,
   "metadata": {},
   "outputs": [],
   "source": [
    "#total number of words without considering stopwords\n",
    "df1['words_ns'] = df1['no_stopwords'].apply(lambda x: len(x))"
   ]
  },
  {
   "cell_type": "code",
   "execution_count": 13,
   "metadata": {},
   "outputs": [],
   "source": [
    "#removes stopwords from translated text and creates new column\n",
    "df1['ns_pt'] = df1['translated'].apply(lambda x: remove_stopwords(x.split(' ')))"
   ]
  },
  {
   "cell_type": "code",
   "execution_count": 14,
   "metadata": {},
   "outputs": [],
   "source": [
    "#vocabulary\n",
    "df1['unique'] = df1['lyrics'].apply(lambda x: len(set(x.split(' '))))"
   ]
  },
  {
   "cell_type": "code",
   "execution_count": 15,
   "metadata": {},
   "outputs": [],
   "source": [
    "#vocabulary after stemming\n",
    "df1['orengo_unique'] = df1['orengo'].apply(lambda x: len(set(x)))"
   ]
  },
  {
   "cell_type": "code",
   "execution_count": 16,
   "metadata": {},
   "outputs": [],
   "source": [
    "#vocabulary without considering stopwords\n",
    "df1['ns_unique'] = df1['no_stopwords'].apply(lambda x: len(set(x)))"
   ]
  },
  {
   "cell_type": "code",
   "execution_count": 17,
   "metadata": {},
   "outputs": [],
   "source": [
    "#vocabulary without considering stopwords after stemming\n",
    "df1['ns_orengo_unique'] = df1['no_stopwords'].apply(lambda x: len(set(orengo(x))))"
   ]
  },
  {
   "cell_type": "code",
   "execution_count": 18,
   "metadata": {},
   "outputs": [],
   "source": [
    "#vocabulary after translation\n",
    "df1['unique_pt'] = df['translated'].apply(lambda x: len(set(x.split(' '))))"
   ]
  },
  {
   "cell_type": "code",
   "execution_count": 19,
   "metadata": {},
   "outputs": [],
   "source": [
    "#vocabulary after stemming + translation\n",
    "df1['orengo_pt'] = df['translated'].apply(lambda x: len(set(orengo(x))))"
   ]
  },
  {
   "cell_type": "code",
   "execution_count": 20,
   "metadata": {},
   "outputs": [],
   "source": [
    "#vocabulary without considering stopwords (translated)\n",
    "df1['ns_uni_pt'] = df1['ns_pt'].apply(lambda x: len(set(x)))"
   ]
  },
  {
   "cell_type": "code",
   "execution_count": 21,
   "metadata": {},
   "outputs": [],
   "source": [
    "#vocabulary without considering stopwords after stemming + translation\n",
    "df1['ns_or_pt'] = df1['ns_pt'].apply(lambda x: len(set(orengo(x))))"
   ]
  },
  {
   "cell_type": "code",
   "execution_count": 22,
   "metadata": {},
   "outputs": [
    {
     "data": {
      "text/html": [
       "<div>\n",
       "<style scoped>\n",
       "    .dataframe tbody tr th:only-of-type {\n",
       "        vertical-align: middle;\n",
       "    }\n",
       "\n",
       "    .dataframe tbody tr th {\n",
       "        vertical-align: top;\n",
       "    }\n",
       "\n",
       "    .dataframe thead th {\n",
       "        text-align: right;\n",
       "    }\n",
       "</style>\n",
       "<table border=\"1\" class=\"dataframe\">\n",
       "  <thead>\n",
       "    <tr style=\"text-align: right;\">\n",
       "      <th></th>\n",
       "      <th>artist</th>\n",
       "      <th>foreign</th>\n",
       "      <th>lyrics</th>\n",
       "      <th>translated</th>\n",
       "      <th>no_stopwords</th>\n",
       "      <th>orengo</th>\n",
       "      <th>words</th>\n",
       "      <th>words_ns</th>\n",
       "      <th>ns_pt</th>\n",
       "      <th>unique</th>\n",
       "      <th>orengo_unique</th>\n",
       "      <th>ns_unique</th>\n",
       "      <th>ns_orengo_unique</th>\n",
       "      <th>unique_pt</th>\n",
       "      <th>orengo_pt</th>\n",
       "      <th>ns_uni_pt</th>\n",
       "      <th>ns_or_pt</th>\n",
       "    </tr>\n",
       "  </thead>\n",
       "  <tbody>\n",
       "    <tr>\n",
       "      <th>0</th>\n",
       "      <td>/aline-barros/</td>\n",
       "      <td>443</td>\n",
       "      <td>mestre eu preciso de um milagre transforma min...</td>\n",
       "      <td>mestre eu preciso de um milagre transforma min...</td>\n",
       "      <td>[mestre, preciso, milagre, transforma, vida, e...</td>\n",
       "      <td>[mestr, eu, precis, de, um, milagr, transform,...</td>\n",
       "      <td>3826</td>\n",
       "      <td>2081</td>\n",
       "      <td>[mestre, preciso, milagre, transforma, vida, e...</td>\n",
       "      <td>747</td>\n",
       "      <td>581</td>\n",
       "      <td>650</td>\n",
       "      <td>520</td>\n",
       "      <td>69</td>\n",
       "      <td>30</td>\n",
       "      <td>584</td>\n",
       "      <td>464</td>\n",
       "    </tr>\n",
       "    <tr>\n",
       "      <th>1</th>\n",
       "      <td>/amado-batista/</td>\n",
       "      <td>297</td>\n",
       "      <td>ao te ver pela primeira vez eu tremi todo uma ...</td>\n",
       "      <td>ao te ver pela primeira vez eu tremi todo uma ...</td>\n",
       "      <td>[ver, primeira, vez, tremi, todo, coisa, tomou...</td>\n",
       "      <td>[ao, te, ver, pel, prim, vez, eu, trem, tod, u...</td>\n",
       "      <td>3305</td>\n",
       "      <td>1718</td>\n",
       "      <td>[ver, primeira, vez, tremi, todo, coisa, tomou...</td>\n",
       "      <td>845</td>\n",
       "      <td>621</td>\n",
       "      <td>749</td>\n",
       "      <td>559</td>\n",
       "      <td>51</td>\n",
       "      <td>27</td>\n",
       "      <td>690</td>\n",
       "      <td>530</td>\n",
       "    </tr>\n",
       "    <tr>\n",
       "      <th>2</th>\n",
       "      <td>/ana-carolina/</td>\n",
       "      <td>535</td>\n",
       "      <td>eu e você não é assim tão complicado não é dif...</td>\n",
       "      <td>eu e você não é assim tão complicado não é dif...</td>\n",
       "      <td>[assim, tão, complicado, difícil, perceber, do...</td>\n",
       "      <td>[eu, e, voc, não, é, assim, tão, complic, não,...</td>\n",
       "      <td>3907</td>\n",
       "      <td>2106</td>\n",
       "      <td>[assim, tão, complicado, difícil, perceber, do...</td>\n",
       "      <td>775</td>\n",
       "      <td>599</td>\n",
       "      <td>685</td>\n",
       "      <td>539</td>\n",
       "      <td>58</td>\n",
       "      <td>30</td>\n",
       "      <td>630</td>\n",
       "      <td>497</td>\n",
       "    </tr>\n",
       "    <tr>\n",
       "      <th>3</th>\n",
       "      <td>/anavitoria/</td>\n",
       "      <td>681</td>\n",
       "      <td>eu poderia acordar sem teu olhar de sono sem t...</td>\n",
       "      <td>eu poderia acordar sem teu olhar de sono sem t...</td>\n",
       "      <td>[poderia, acordar, olhar, sono, lábio, dono, q...</td>\n",
       "      <td>[eu, pod, acord, sem, teu, olh, de, son, sem, ...</td>\n",
       "      <td>4885</td>\n",
       "      <td>2614</td>\n",
       "      <td>[poderia, acordar, olhar, sono, lábio, dono, q...</td>\n",
       "      <td>851</td>\n",
       "      <td>673</td>\n",
       "      <td>766</td>\n",
       "      <td>613</td>\n",
       "      <td>60</td>\n",
       "      <td>29</td>\n",
       "      <td>699</td>\n",
       "      <td>569</td>\n",
       "    </tr>\n",
       "    <tr>\n",
       "      <th>4</th>\n",
       "      <td>/anderson-freire/</td>\n",
       "      <td>505</td>\n",
       "      <td>não consigo ir além do teu olhar tudo que eu c...</td>\n",
       "      <td>não consigo ir além do teu olhar tudo que eu c...</td>\n",
       "      <td>[consigo, ir, além, olhar, tudo, consigo, imag...</td>\n",
       "      <td>[não, consig, ir, além, do, teu, olh, tud, que...</td>\n",
       "      <td>5548</td>\n",
       "      <td>3028</td>\n",
       "      <td>[consigo, ir, além, olhar, tudo, consigo, imag...</td>\n",
       "      <td>1126</td>\n",
       "      <td>868</td>\n",
       "      <td>1024</td>\n",
       "      <td>801</td>\n",
       "      <td>54</td>\n",
       "      <td>28</td>\n",
       "      <td>934</td>\n",
       "      <td>742</td>\n",
       "    </tr>\n",
       "  </tbody>\n",
       "</table>\n",
       "</div>"
      ],
      "text/plain": [
       "              artist  foreign  \\\n",
       "0     /aline-barros/      443   \n",
       "1    /amado-batista/      297   \n",
       "2     /ana-carolina/      535   \n",
       "3       /anavitoria/      681   \n",
       "4  /anderson-freire/      505   \n",
       "\n",
       "                                              lyrics  \\\n",
       "0  mestre eu preciso de um milagre transforma min...   \n",
       "1  ao te ver pela primeira vez eu tremi todo uma ...   \n",
       "2  eu e você não é assim tão complicado não é dif...   \n",
       "3  eu poderia acordar sem teu olhar de sono sem t...   \n",
       "4  não consigo ir além do teu olhar tudo que eu c...   \n",
       "\n",
       "                                          translated  \\\n",
       "0  mestre eu preciso de um milagre transforma min...   \n",
       "1  ao te ver pela primeira vez eu tremi todo uma ...   \n",
       "2  eu e você não é assim tão complicado não é dif...   \n",
       "3  eu poderia acordar sem teu olhar de sono sem t...   \n",
       "4  não consigo ir além do teu olhar tudo que eu c...   \n",
       "\n",
       "                                        no_stopwords  \\\n",
       "0  [mestre, preciso, milagre, transforma, vida, e...   \n",
       "1  [ver, primeira, vez, tremi, todo, coisa, tomou...   \n",
       "2  [assim, tão, complicado, difícil, perceber, do...   \n",
       "3  [poderia, acordar, olhar, sono, lábio, dono, q...   \n",
       "4  [consigo, ir, além, olhar, tudo, consigo, imag...   \n",
       "\n",
       "                                              orengo  words  words_ns  \\\n",
       "0  [mestr, eu, precis, de, um, milagr, transform,...   3826      2081   \n",
       "1  [ao, te, ver, pel, prim, vez, eu, trem, tod, u...   3305      1718   \n",
       "2  [eu, e, voc, não, é, assim, tão, complic, não,...   3907      2106   \n",
       "3  [eu, pod, acord, sem, teu, olh, de, son, sem, ...   4885      2614   \n",
       "4  [não, consig, ir, além, do, teu, olh, tud, que...   5548      3028   \n",
       "\n",
       "                                               ns_pt  unique  orengo_unique  \\\n",
       "0  [mestre, preciso, milagre, transforma, vida, e...     747            581   \n",
       "1  [ver, primeira, vez, tremi, todo, coisa, tomou...     845            621   \n",
       "2  [assim, tão, complicado, difícil, perceber, do...     775            599   \n",
       "3  [poderia, acordar, olhar, sono, lábio, dono, q...     851            673   \n",
       "4  [consigo, ir, além, olhar, tudo, consigo, imag...    1126            868   \n",
       "\n",
       "   ns_unique  ns_orengo_unique  unique_pt  orengo_pt  ns_uni_pt  ns_or_pt  \n",
       "0        650               520         69         30        584       464  \n",
       "1        749               559         51         27        690       530  \n",
       "2        685               539         58         30        630       497  \n",
       "3        766               613         60         29        699       569  \n",
       "4       1024               801         54         28        934       742  "
      ]
     },
     "execution_count": 22,
     "metadata": {},
     "output_type": "execute_result"
    }
   ],
   "source": [
    "df1.head()"
   ]
  },
  {
   "cell_type": "code",
   "execution_count": 23,
   "metadata": {},
   "outputs": [],
   "source": [
    "df1.to_csv('./data/final_data.csv', index=False)"
   ]
  },
  {
   "cell_type": "code",
   "execution_count": null,
   "metadata": {},
   "outputs": [],
   "source": []
  },
  {
   "cell_type": "code",
   "execution_count": null,
   "metadata": {},
   "outputs": [],
   "source": []
  }
 ],
 "metadata": {
  "kernelspec": {
   "display_name": "Python 3",
   "language": "python",
   "name": "python3"
  },
  "language_info": {
   "codemirror_mode": {
    "name": "ipython",
    "version": 3
   },
   "file_extension": ".py",
   "mimetype": "text/x-python",
   "name": "python",
   "nbconvert_exporter": "python",
   "pygments_lexer": "ipython3",
   "version": "3.7.3"
  }
 },
 "nbformat": 4,
 "nbformat_minor": 2
}
