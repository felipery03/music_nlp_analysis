{
 "cells": [
  {
   "cell_type": "code",
   "execution_count": 1,
   "metadata": {},
   "outputs": [],
   "source": [
    "import pandas as pd\n",
    "import re\n",
    "import nltk\n",
    "from nltk.stem import RSLPStemmer"
   ]
  },
  {
   "cell_type": "code",
   "execution_count": 2,
   "metadata": {},
   "outputs": [],
   "source": [
    "def orengo(song):\n",
    "    st = RSLPStemmer()\n",
    "    words = filter(lambda x: len(x)>0, song)\n",
    "    word_list = list(map(lambda x: st.stem(x), words))\n",
    "    return word_list"
   ]
  },
  {
   "cell_type": "code",
   "execution_count": 3,
   "metadata": {},
   "outputs": [],
   "source": [
    "def remove_stopwords(doc):\n",
    "    stopwords = nltk.corpus.stopwords.words('portuguese')\n",
    "    new_doc = list(filter(lambda x: x not in stopwords, doc))\n",
    "    return new_doc"
   ]
  },
  {
   "cell_type": "code",
   "execution_count": 4,
   "metadata": {},
   "outputs": [],
   "source": [
    "df = pd.read_csv('.\\data\\dataset_lyrics.csv')"
   ]
  },
  {
   "cell_type": "code",
   "execution_count": 5,
   "metadata": {},
   "outputs": [],
   "source": [
    "#removes compilations\n",
    "df = df[(df.artist != '/musicas-catolicas/')&(df.artist != '/harpa-crista/')&(df.artist != '/corinhos-evangelicos/')&\n",
    "        (df.artist != '/hinos/')&(df.artist != '/colecao-amo-voce/')&(df.artist != '/umbanda/')&(df.artist != '/alok/')]"
   ]
  },
  {
   "cell_type": "code",
   "execution_count": 6,
   "metadata": {},
   "outputs": [],
   "source": [
    "#data cleansing\n",
    "df['lyrics'] = df['lyrics'].str.strip('<div data-plugin=\"\"googleTranslate\"\" id=\"\"lyrics\"\">')\n",
    "df['lyrics'] = df['lyrics'].str.strip('<img alt=\"Instrumental\" class=\"instrumental-icon\" src=\"/img/etc/instrumental.png\"/')\n",
    "df['lyrics'] = df['lyrics'].str.replace('\\n', ' ')\n",
    "df['lyrics'] = df['lyrics'].str.replace('\\r', '')\n",
    "df['lyrics'] = df['lyrics'].apply(lambda x: re.sub('[!,.;:?()\"\"|]', \"\", x))\n",
    "df['lyrics'] = df['lyrics'].apply(lambda x: x.lower())"
   ]
  },
  {
   "cell_type": "code",
   "execution_count": 7,
   "metadata": {},
   "outputs": [],
   "source": [
    "#creates new df where the column lyrics carries every song of a given artist\n",
    "df1 = df.groupby('artist')['lyrics'].apply(' '.join).reset_index()"
   ]
  },
  {
   "cell_type": "code",
   "execution_count": 8,
   "metadata": {},
   "outputs": [],
   "source": [
    "#applies stemmer and creates new column\n",
    "df1['orengo'] = df1['lyrics'].apply(lambda x: orengo(x.split(' ')))"
   ]
  },
  {
   "cell_type": "code",
   "execution_count": 9,
   "metadata": {},
   "outputs": [],
   "source": [
    "#removes stopwords and creates new column\n",
    "df1['no_stopwords'] = df1['lyrics'].apply(lambda x: remove_stopwords(x.split(' ')))"
   ]
  },
  {
   "cell_type": "code",
   "execution_count": 10,
   "metadata": {},
   "outputs": [],
   "source": [
    "#vocabulary\n",
    "df1['unique'] = df1['lyrics'].apply(lambda x: len(set(x.split(' '))))"
   ]
  },
  {
   "cell_type": "code",
   "execution_count": 11,
   "metadata": {},
   "outputs": [],
   "source": [
    "#vocabulary after stemming\n",
    "df1['orengo_unique'] = df1['orengo'].apply(lambda x: len(set(x)))"
   ]
  },
  {
   "cell_type": "code",
   "execution_count": 12,
   "metadata": {},
   "outputs": [],
   "source": [
    "#vocabulary without considering stopwords\n",
    "df1['ns_unique'] = df1['no_stopwords'].apply(lambda x: len(set(x)))"
   ]
  },
  {
   "cell_type": "code",
   "execution_count": 13,
   "metadata": {},
   "outputs": [],
   "source": [
    "#vocabulary without considering stopwords after stemming\n",
    "df1['ns_orengo_unique'] = df1['no_stopwords'].apply(lambda x: len(set(orengo(x))))"
   ]
  },
  {
   "cell_type": "code",
   "execution_count": 14,
   "metadata": {},
   "outputs": [
    {
     "data": {
      "text/html": [
       "<div>\n",
       "<style scoped>\n",
       "    .dataframe tbody tr th:only-of-type {\n",
       "        vertical-align: middle;\n",
       "    }\n",
       "\n",
       "    .dataframe tbody tr th {\n",
       "        vertical-align: top;\n",
       "    }\n",
       "\n",
       "    .dataframe thead th {\n",
       "        text-align: right;\n",
       "    }\n",
       "</style>\n",
       "<table border=\"1\" class=\"dataframe\">\n",
       "  <thead>\n",
       "    <tr style=\"text-align: right;\">\n",
       "      <th></th>\n",
       "      <th>artist</th>\n",
       "      <th>lyrics</th>\n",
       "      <th>orengo</th>\n",
       "      <th>no_stopwords</th>\n",
       "      <th>unique</th>\n",
       "      <th>orengo_unique</th>\n",
       "      <th>ns_unique</th>\n",
       "      <th>ns_orengo_unique</th>\n",
       "    </tr>\n",
       "  </thead>\n",
       "  <tbody>\n",
       "    <tr>\n",
       "      <th>0</th>\n",
       "      <td>/aline-barros/</td>\n",
       "      <td>coro bendecid al señor alma mia tu nombre sant...</td>\n",
       "      <td>[cor, bendecid, al, señ, alm, mia, tu, nombr, ...</td>\n",
       "      <td>[coro, bendecid, al, señor, alma, mia, nombre,...</td>\n",
       "      <td>5614</td>\n",
       "      <td>3554</td>\n",
       "      <td>5469</td>\n",
       "      <td>3491</td>\n",
       "    </tr>\n",
       "    <tr>\n",
       "      <th>1</th>\n",
       "      <td>/amado-batista/</td>\n",
       "      <td>pare de pensar em besteira se ligue no que eu ...</td>\n",
       "      <td>[par, de, pens, em, beste, se, lig, no, que, e...</td>\n",
       "      <td>[pare, pensar, besteira, ligue, vou, dizer, ge...</td>\n",
       "      <td>4519</td>\n",
       "      <td>2590</td>\n",
       "      <td>4379</td>\n",
       "      <td>2536</td>\n",
       "    </tr>\n",
       "    <tr>\n",
       "      <th>2</th>\n",
       "      <td>/ana-carolina/</td>\n",
       "      <td>110000 nega marrenta 110000 nega marrenta 1100...</td>\n",
       "      <td>[110000, neg, marrent, 110000, neg, marrent, 1...</td>\n",
       "      <td>[110000, nega, marrenta, 110000, nega, marrent...</td>\n",
       "      <td>3504</td>\n",
       "      <td>2515</td>\n",
       "      <td>3383</td>\n",
       "      <td>2452</td>\n",
       "    </tr>\n",
       "    <tr>\n",
       "      <th>3</th>\n",
       "      <td>/anavitoria/</td>\n",
       "      <td>acorda meu bem amanhã já é outra história em p...</td>\n",
       "      <td>[acord, meu, bem, amanhã, já, é, outr, histór,...</td>\n",
       "      <td>[acorda, bem, amanhã, outra, história, paz, va...</td>\n",
       "      <td>1452</td>\n",
       "      <td>1123</td>\n",
       "      <td>1357</td>\n",
       "      <td>1062</td>\n",
       "    </tr>\n",
       "    <tr>\n",
       "      <th>4</th>\n",
       "      <td>/anderson-freire/</td>\n",
       "      <td>senhor lembra-te de mim quando entrares no teu...</td>\n",
       "      <td>[senh, lembra-t, de, mim, qu, entr, no, teu, r...</td>\n",
       "      <td>[senhor, lembra-te, mim, entrares, reino, , -,...</td>\n",
       "      <td>2771</td>\n",
       "      <td>1762</td>\n",
       "      <td>2646</td>\n",
       "      <td>1697</td>\n",
       "    </tr>\n",
       "  </tbody>\n",
       "</table>\n",
       "</div>"
      ],
      "text/plain": [
       "              artist                                             lyrics  \\\n",
       "0     /aline-barros/  coro bendecid al señor alma mia tu nombre sant...   \n",
       "1    /amado-batista/  pare de pensar em besteira se ligue no que eu ...   \n",
       "2     /ana-carolina/  110000 nega marrenta 110000 nega marrenta 1100...   \n",
       "3       /anavitoria/  acorda meu bem amanhã já é outra história em p...   \n",
       "4  /anderson-freire/  senhor lembra-te de mim quando entrares no teu...   \n",
       "\n",
       "                                              orengo  \\\n",
       "0  [cor, bendecid, al, señ, alm, mia, tu, nombr, ...   \n",
       "1  [par, de, pens, em, beste, se, lig, no, que, e...   \n",
       "2  [110000, neg, marrent, 110000, neg, marrent, 1...   \n",
       "3  [acord, meu, bem, amanhã, já, é, outr, histór,...   \n",
       "4  [senh, lembra-t, de, mim, qu, entr, no, teu, r...   \n",
       "\n",
       "                                        no_stopwords  unique  orengo_unique  \\\n",
       "0  [coro, bendecid, al, señor, alma, mia, nombre,...    5614           3554   \n",
       "1  [pare, pensar, besteira, ligue, vou, dizer, ge...    4519           2590   \n",
       "2  [110000, nega, marrenta, 110000, nega, marrent...    3504           2515   \n",
       "3  [acorda, bem, amanhã, outra, história, paz, va...    1452           1123   \n",
       "4  [senhor, lembra-te, mim, entrares, reino, , -,...    2771           1762   \n",
       "\n",
       "   ns_unique  ns_orengo_unique  \n",
       "0       5469              3491  \n",
       "1       4379              2536  \n",
       "2       3383              2452  \n",
       "3       1357              1062  \n",
       "4       2646              1697  "
      ]
     },
     "execution_count": 14,
     "metadata": {},
     "output_type": "execute_result"
    }
   ],
   "source": [
    "df1.head()"
   ]
  },
  {
   "cell_type": "code",
   "execution_count": null,
   "metadata": {},
   "outputs": [],
   "source": []
  }
 ],
 "metadata": {
  "kernelspec": {
   "display_name": "Python 3",
   "language": "python",
   "name": "python3"
  },
  "language_info": {
   "codemirror_mode": {
    "name": "ipython",
    "version": 3
   },
   "file_extension": ".py",
   "mimetype": "text/x-python",
   "name": "python",
   "nbconvert_exporter": "python",
   "pygments_lexer": "ipython3",
   "version": "3.7.3"
  }
 },
 "nbformat": 4,
 "nbformat_minor": 2
}
