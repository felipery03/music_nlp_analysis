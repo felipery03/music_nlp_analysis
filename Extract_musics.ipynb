{
 "cells": [
  {
   "cell_type": "code",
   "execution_count": 17,
   "metadata": {},
   "outputs": [],
   "source": [
    "import pandas as pd\n",
    "from bs4 import BeautifulSoup\n",
    "import requests"
   ]
  },
  {
   "cell_type": "code",
   "execution_count": 18,
   "metadata": {},
   "outputs": [],
   "source": [
    "url = r'https://www.vagalume.com.br/top100/artistas/nacional/'"
   ]
  },
  {
   "cell_type": "code",
   "execution_count": 10,
   "metadata": {},
   "outputs": [],
   "source": [
    "# Given a music, this function returns its lytics\n",
    "def get_lyrics(url):\n",
    "    req = requests.get(url)\n",
    "    soup = BeautifulSoup(req.content, 'html.parser')\n",
    "    lyrics = soup.find(id='lyrics')\n",
    "    return str(lyrics).replace('<br/>', '\\n').replace('<div id=\"lyrics\">', '').replace('</div>', '')"
   ]
  },
  {
   "cell_type": "code",
   "execution_count": null,
   "metadata": {},
   "outputs": [],
   "source": [
    "# Given an artist, this function returns 25 top songs of this artist\n",
    "def get_top25_music_names(artist):\n",
    "    print(\"Artista: \" + artist)\n",
    "    url_artist = url + '/{}/'.format(artist)\n",
    "    req = BeautifulSoup(requests.get(url_artist).content, 'html.parser')\n",
    "    trecho = req.find('ol', {'id': 'topMusicList'})\n",
    "    if(trecho != None):\n",
    "        musicas = trecho.findAll('a', {'class': 'nameMusic'})\n",
    "        musicaddr = []\n",
    "        for mus in musicas:\n",
    "            musicaddr.append(mus.get('href'))\n",
    "        print (musicaddr)\n",
    "        return musicaddr\n",
    "    else:\n",
    "        return get_music_names(artist)"
   ]
  },
  {
   "cell_type": "code",
   "execution_count": 28,
   "metadata": {},
   "outputs": [],
   "source": [
    "# Get top 100 artists in vagalume website\n",
    "def get_top_100():\n",
    "    url_top = url + 'top100/artistas/nacional/'\n",
    "    req = requests.get(url_top)\n",
    "    soup = BeautifulSoup(req.content, 'html.parser')\n",
    "    top_100 = soup.findAll('a', {'class': 'w1 h22'})\n",
    "    \n",
    "    for i in range(len(top_100)):\n",
    "        top_100[i] = top_100[i].get('href')\n",
    "\n",
    "    return top_100"
   ]
  },
  {
   "cell_type": "code",
   "execution_count": 5,
   "metadata": {},
   "outputs": [],
   "source": [
    "top_100 = get_top_100()\n",
    "\n",
    "final_list = []\n",
    "\n",
    "for artist in top_100:   \n",
    "    music_names = get_top25_music_names(artist)\n",
    "    \n",
    "    for music in music_names:\n",
    "        lyrics = get_lyrics(url + music)\n",
    "        final_list.append([artist, music, lyrics])\n",
    "\n",
    "df = pd.DataFrame(final_list, columns=['artist', 'music_name', 'lyrics'])"
   ]
  },
  {
   "cell_type": "code",
   "execution_count": null,
   "metadata": {},
   "outputs": [],
   "source": [
    "df.to_csv('data/dataset_lyrics.csv', index=False)"
   ]
  }
 ],
 "metadata": {
  "kernelspec": {
   "display_name": "Python 3",
   "language": "python",
   "name": "python3"
  },
  "language_info": {
   "codemirror_mode": {
    "name": "ipython",
    "version": 3
   },
   "file_extension": ".py",
   "mimetype": "text/x-python",
   "name": "python",
   "nbconvert_exporter": "python",
   "pygments_lexer": "ipython3",
   "version": "3.7.1"
  }
 },
 "nbformat": 4,
 "nbformat_minor": 2
}
